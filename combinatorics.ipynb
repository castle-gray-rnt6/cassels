{
 "cells": [
  {
   "cell_type": "markdown",
   "id": "901c7f",
   "metadata": {
    "collapsed": false
   },
   "source": [
    "We make some combinatorial verifications required to prove the lemmas in section 5.1 of the paper."
   ]
  },
  {
   "cell_type": "code",
   "execution_count": 1,
   "id": "ccf9b0",
   "metadata": {
    "collapsed": false
   },
   "outputs": [
   ],
   "source": [
    "from itertools import combinations, permutations"
   ]
  },
  {
   "cell_type": "markdown",
   "id": "eee057",
   "metadata": {
    "collapsed": false
   },
   "source": [
    "In the following cases, for every $X$-element subset $S$ of $\\ZZ/p\\ZZ$, there exists $k \\in \\ZZ/p\\ZZ$ such that\n",
    "$$\n",
    "\\#\\{(i,j) \\in S^2\\colon i- j= k\\} = 1.\n",
    "$$"
   ]
  },
  {
   "cell_type": "code",
   "execution_count": 2,
   "id": "dd7d0e",
   "metadata": {
    "collapsed": false
   },
   "outputs": [
   ],
   "source": [
    "for (p,X) in [(13,5), (19,6), (23,6), (29,6), (31,6)]:\n",
    "    for i in combinations(range(2,p), X-2):\n",
    "        j = [(a-b)%p for a,b in permutations((0,1)+i, int(2))]\n",
    "        assert any(j.count(k) == 1 for k in range(1,p))"
   ]
  },
  {
   "cell_type": "markdown",
   "id": "c738e3",
   "metadata": {
    "collapsed": false
   },
   "source": [
    "In the following cases, for every $X$-element subset $S$ of $\\ZZ/p^2\\ZZ$ whose elements are pairwise distinct mod $p$, there exist indices $k_1, k_2$ with $k_1 \\equiv k_2 \\pmod{p}$ such that\n",
    "$$\n",
    "\\#\\{(i,j) \\in S^2\\colon i- j= k\\} = 1, \\#\\{(i,j) \\in S^2\\colon i- j= k\\} = 1.\n",
    "$$"
   ]
  },
  {
   "cell_type": "code",
   "execution_count": 0,
   "id": "4c0c4f",
   "metadata": {
    "collapsed": false
   },
   "outputs": [
   ],
   "source": [
    "for (p,X) in [(3,3), (5,4), (5,5), (7,4), (7,5), (11,5)]:\n",
    "    for i in combinations(range(2,p**2), X-2):\n",
    "        l = (0,1)+i\n",
    "        if len(set(a%p for a in l)) != X:\n",
    "            continue\n",
    "        j = [(a-b) % p**2 for a,b in permutations(l, int(2))]\n",
    "        assert any(j.count(k1) == 0 and j.count(k2) == 1 and (k1-k2)%p == 0 and k1%p != 0 for k1,k2 in permutations(range(1,p**2), int(2)))"
   ]
  },
  {
   "cell_type": "markdown",
   "id": "17af34",
   "metadata": {
    "collapsed": false
   },
   "source": [
    "In the following cases, for every $X$-element subset $S$ of $\\ZZ/p\\ZZ$ such that $S_k := \\{(i,j) \\in S^2\\colon i- j= k\\}$ is nonempty for every $k \\in \\ZZ/p\\ZZ \\setminus \\{0\\}$, the graph on $S$ whose edge set is the union of those $S_k$ which are one-element sets is connected and not bipartite."
   ]
  },
  {
   "cell_type": "code",
   "execution_count": 6,
   "id": "60007c",
   "metadata": {
    "collapsed": false
   },
   "outputs": [
   ],
   "source": [
    "for (p,X) in [(7,3), (11,4), (13,4), (17,5), (19,5), (29,6), (31,6)]:\n",
    "    for i in combinations(range(2,p), X-2):\n",
    "        l = (0,1)+i\n",
    "        j = [(a-b)%p for a,b in permutations(l, int(2))]\n",
    "        if any (k not in j for k in range(1, p)):\n",
    "            continue\n",
    "        j2 = set(k for k in range(1, p) if j.count(k) == 1)\n",
    "        j3 = [(a,b) for a,b in permutations(l, int(2)) if (a-b)%p in j2]\n",
    "        Gamma = Graph([list(l), j3])\n",
    "        assert Gamma.is_connected() and not Gamma.is_bipartite()"
   ]
  },
  {
   "cell_type": "code",
   "execution_count": 0,
   "id": "14c80d",
   "metadata": {
    "collapsed": false
   },
   "outputs": [
   ],
   "source": [
   ]
  }
 ],
 "metadata": {
  "kernelspec": {
   "argv": [
    "sage-10.6",
    "--python",
    "-m",
    "sage.repl.ipython_kernel",
    "--matplotlib=inline",
    "-f",
    "{connection_file}"
   ],
   "display_name": "SageMath 10.6",
   "env": {
   },
   "language": "sagemath",
   "metadata": {
    "cocalc": {
     "description": "Open-source mathematical software system",
     "priority": 10,
     "url": "https://www.sagemath.org/"
    }
   },
   "name": "sage-10.6",
   "resource_dir": "/ext/jupyter/kernels/sage-10.6"
  },
  "language_info": {
   "codemirror_mode": {
    "name": "ipython",
    "version": 3
   },
   "file_extension": ".py",
   "mimetype": "text/x-python",
   "name": "python",
   "nbconvert_exporter": "python",
   "pygments_lexer": "ipython3",
   "version": "3.12.5"
  }
 },
 "nbformat": 4,
 "nbformat_minor": 4
}