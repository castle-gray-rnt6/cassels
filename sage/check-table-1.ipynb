{
 "cells": [
  {
   "cell_type": "markdown",
   "id": "3b47bf",
   "metadata": {
    "collapsed": false,
    "jupyter": {
     "outputs_hidden": false
    }
   },
   "source": [
    "We check that all tuples output by the Rust code correspond to cyclotomic integers which either belong to one of the infinite families (1), (2), (3) of Cassels's theorem or are equivalent to an entry of Table 1."
   ]
  },
  {
   "cell_type": "code",
   "execution_count": 3,
   "id": "51ba4a",
   "metadata": {
    "collapsed": false,
    "jupyter": {
    }
   },
   "outputs": [
   ],
   "source": [
    "from pathlib import Path"
   ]
  },
  {
   "cell_type": "code",
   "execution_count": 4,
   "id": "1717c1",
   "metadata": {
    "collapsed": false,
    "jupyter": {
    }
   },
   "outputs": [
   ],
   "source": [
    "load('utils.sage')"
   ]
  },
  {
   "cell_type": "markdown",
   "id": "093979",
   "metadata": {
    "collapsed": false,
    "jupyter": {
     "outputs_hidden": false
    }
   },
   "source": [
    "First step: parse the cyclotomic integers from the `output.txt` file and get a list of SageMath cyclotomic integer objects.  \n",
    "\n"
   ]
  },
  {
   "cell_type": "code",
   "execution_count": 5,
   "id": "ba3dff",
   "metadata": {
    "collapsed": false
   },
   "outputs": [
   ],
   "source": [
    "load(\"parse-cyclotomic-integers.sage\")"
   ]
  },
  {
   "cell_type": "code",
   "execution_count": 6,
   "id": "03281d",
   "metadata": {
    "collapsed": false,
    "jupyter": {
    }
   },
   "outputs": [
    {
     "name": "stdout",
     "output_type": "stream",
     "text": [
      "91\n"
     ]
    }
   ],
   "source": [
    "output_path = Path('../rust/output.txt')\n",
    "cyc_integers = parse_cyclotomic_integers(output_path)\n",
    "print(len(cyc_integers))"
   ]
  },
  {
   "cell_type": "markdown",
   "id": "a0447c",
   "metadata": {
    "collapsed": false,
    "jupyter": {
     "outputs_hidden": false
    }
   },
   "source": [
    "Create an iterator to find those cyclotomic integers that are **not** in Cassels form, and whose castle is at most $5.04$, and compute their hashes."
   ]
  },
  {
   "cell_type": "code",
   "execution_count": 7,
   "id": "abe9c1",
   "metadata": {
    "collapsed": false,
    "jupyter": {
    }
   },
   "outputs": [
   ],
   "source": [
    "hashes = map(cyclotomic_hash,filter(lambda x: castle_below_cutoff(x, 5+1/25) and not is_cassels_form(x), cyc_integers))"
   ]
  },
  {
   "cell_type": "markdown",
   "id": "6dc558",
   "metadata": {
    "collapsed": false,
    "jupyter": {
     "outputs_hidden": false
    }
   },
   "source": [
    "We want to compare these hashes to the hashes of Table 1. So, first, we need to get the hashes of Table 1. We split the hashes computations for convenience.\n"
   ]
  },
  {
   "cell_type": "code",
   "execution_count": 8,
   "id": "658024",
   "metadata": {
    "collapsed": false,
    "jupyter": {
    }
   },
   "outputs": [
   ],
   "source": [
    "# Reference hashes\n",
    "load('create-table.sage')\n",
    "reference_hashes = table_hashes(TABLE_RAW)\n",
    "reference_hashes_set = set(reference_hashes) "
   ]
  },
  {
   "cell_type": "markdown",
   "id": "ab65e4",
   "metadata": {
    "collapsed": false,
    "jupyter": {
     "outputs_hidden": false
    }
   },
   "source": [
    "Add one more hash corresponding to a cyclotomic integer discovered by Robinson-Wurtz with castle in (5, 5.04)."
   ]
  },
  {
   "cell_type": "code",
   "execution_count": 9,
   "id": "b18789",
   "metadata": {
    "collapsed": false,
    "jupyter": {
    }
   },
   "outputs": [
   ],
   "source": [
    "K.<z> = CyclotomicField(70)\n",
    "x = 1+z+z^10+z^29\n",
    "assert castle_below_cutoff(x, 5+1/25) and not castle_below_cutoff(x, 5)\n",
    "reference_hashes_set.add(cyclotomic_hash(x))"
   ]
  },
  {
   "cell_type": "markdown",
   "id": "d7c5b6",
   "metadata": {
    "collapsed": false,
    "jupyter": {
     "outputs_hidden": false
    }
   },
   "source": [
    "Confirm that every hash from our iterator appears in Table 1 or corresponds to the one exceptional value of Robinson-Wurtz."
   ]
  },
  {
   "cell_type": "code",
   "execution_count": 10,
   "id": "95e831",
   "metadata": {
    "collapsed": false,
    "jupyter": {
    }
   },
   "outputs": [
   ],
   "source": [
    "# Candidate hashes\n",
    "assert all(hash_ in reference_hashes_set for hash_ in hashes)"
   ]
  },
  {
   "cell_type": "code",
   "execution_count": 0,
   "id": "59f61d",
   "metadata": {
    "collapsed": false,
    "jupyter": {
     "outputs_hidden": false
    }
   },
   "outputs": [
   ],
   "source": [
   ]
  }
 ],
 "metadata": {
  "kernelspec": {
   "argv": [
    "sage-10.6",
    "--python",
    "-m",
    "sage.repl.ipython_kernel",
    "--matplotlib=inline",
    "-f",
    "{connection_file}"
   ],
   "display_name": "SageMath 10.6",
   "env": {
   },
   "language": "sagemath",
   "metadata": {
    "cocalc": {
     "description": "Open-source mathematical software system",
     "priority": 10,
     "url": "https://www.sagemath.org/"
    }
   },
   "name": "sage-10.6",
   "resource_dir": "/ext/jupyter/kernels/sage-10.6"
  },
  "language_info": {
   "codemirror_mode": {
    "name": "ipython",
    "version": 3
   },
   "file_extension": ".py",
   "mimetype": "text/x-python",
   "name": "python",
   "nbconvert_exporter": "python",
   "pygments_lexer": "ipython3",
   "version": "3.12.5"
  }
 },
 "nbformat": 4,
 "nbformat_minor": 4
}