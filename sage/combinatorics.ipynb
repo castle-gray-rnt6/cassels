{
 "cells": [
  {
   "cell_type": "markdown",
   "metadata": {
    "collapsed": false,
    "jupyter": {
     "outputs_hidden": false
    }
   },
   "source": [
    "We make some combinatorial verifications required to prove the lemmas in section 5.1 of the paper."
   ]
  },
  {
   "cell_type": "code",
   "execution_count": 1,
   "metadata": {
    "collapsed": false,
    "jupyter": {
     "outputs_hidden": false
    }
   },
   "outputs": [],
   "source": [
    "from itertools import combinations, permutations"
   ]
  },
  {
   "cell_type": "markdown",
   "metadata": {
    "collapsed": false,
    "jupyter": {
     "outputs_hidden": false
    }
   },
   "source": [
    "In the following cases, for every $X$-element subset $S$ of $\\mathbb{Z}/p\\mathbb{Z}$, there exists $k \\in \\mathbb{Z}/p\\mathbb{Z}$ such that\n",
    "$$\n",
    "\\#\\{(i,j) \\in S^2\\colon i- j= k\\} = 1.\n",
    "$$"
   ]
  },
  {
   "cell_type": "code",
   "execution_count": 6,
   "metadata": {
    "collapsed": false,
    "jupyter": {
     "outputs_hidden": false
    }
   },
   "outputs": [
    {
     "name": "stdout",
     "output_type": "stream",
     "text": [
      "4 11\n",
      "4 13\n",
      "5 13\n",
      "5 17\n",
      "5 19\n",
      "5 23\n",
      "5 29\n",
      "5 31\n",
      "6 19\n",
      "6 23\n",
      "6 29\n",
      "6 31\n",
      "6 37\n",
      "6 41\n",
      "6 43\n",
      "6 47\n",
      "6 53\n",
      "6 59\n",
      "6 61\n",
      "6 67\n",
      "6 71\n",
      "6 73\n",
      "6 79\n",
      "6 83\n"
     ]
    }
   ],
   "source": [
    "for (X,p0,p1) in [(4,11,14), (5,13,36), (6,19,88)]:\n",
    "    for p in prime_range(p0, p1):\n",
    "        print(X, p)\n",
    "        for i in combinations(range(2,p), X-2):\n",
    "            j = [(a-b)%p for a,b in permutations((0,1)+i, int(2))]\n",
    "            assert any(j.count(k) == 1 for k in range(1,p))"
   ]
  },
  {
   "cell_type": "markdown",
   "metadata": {
    "collapsed": false,
    "jupyter": {
     "outputs_hidden": false
    }
   },
   "source": [
    "In the following cases, for every $X$-element subset $S$ of $\\mathbb{Z}/p^2\\mathbb{Z}$ whose elements are pairwise distinct mod $p$, there exist indices $k_1, k_2$ with $k_1 \\equiv k_2 \\pmod{p}$ such that\n",
    "$$\n",
    "\\#\\{(i,j) \\in S^2\\colon i- j= k\\} = 1, \\#\\{(i,j) \\in S^2\\colon i- j= k\\} = 1.\n",
    "$$"
   ]
  },
  {
   "cell_type": "code",
   "execution_count": 3,
   "metadata": {
    "collapsed": false,
    "jupyter": {
     "outputs_hidden": false
    }
   },
   "outputs": [],
   "source": [
    "for (p,X) in [(3,3), (5,4), (5,5), (7,4), (7,5), (11,5)]:\n",
    "    for i in combinations(range(2,p**2), X-2):\n",
    "        l = (0,1)+i\n",
    "        if len(set(a%p for a in l)) != X:\n",
    "            continue\n",
    "        j = [(a-b) % p**2 for a,b in permutations(l, int(2))]\n",
    "        assert any(j.count(k1) == 0 and j.count(k2) == 1 and (k1-k2)%p == 0 and k1%p != 0 for k1,k2 in permutations(range(1,p**2), int(2)))"
   ]
  },
  {
   "cell_type": "markdown",
   "metadata": {
    "collapsed": false,
    "jupyter": {
     "outputs_hidden": false
    }
   },
   "source": [
    "In the following cases, for every $X$-element subset $S$ of $\\mathbb{Z}/p\\mathbb{Z}$ such that $S_k := \\{(i,j) \\in S^2\\colon i- j= k\\}$ is nonempty for every $k \\in \\mathbb{Z}/p\\mathbb{Z} \\setminus \\{0\\}$, the graph on $S$ whose edge set is the union of those $S_k$ which are one-element sets is connected and not bipartite."
   ]
  },
  {
   "cell_type": "code",
   "execution_count": 4,
   "metadata": {
    "collapsed": false,
    "jupyter": {
     "outputs_hidden": false
    }
   },
   "outputs": [],
   "source": [
    "for (p,X) in [(7,3), (11,4), (13,4), (17,5), (19,5), (29,6), (31,6)]:\n",
    "    for i in combinations(range(2,p), X-2):\n",
    "        l = (0,1)+i\n",
    "        j = [(a-b)%p for a,b in permutations(l, int(2))]\n",
    "        if any (k not in j for k in range(1, p)):\n",
    "            continue\n",
    "        j2 = set(k for k in range(1, p) if j.count(k) == 1)\n",
    "        j3 = [(a,b) for a,b in permutations(l, int(2)) if (a-b)%p in j2]\n",
    "        Gamma = Graph([list(l), j3])\n",
    "        assert Gamma.is_connected() and not Gamma.is_bipartite()"
   ]
  },
  {
   "cell_type": "code",
   "execution_count": null,
   "metadata": {
    "collapsed": false,
    "jupyter": {
     "outputs_hidden": false
    }
   },
   "outputs": [],
   "source": []
  }
 ],
 "metadata": {
  "kernelspec": {
   "display_name": "SageMath 10.7.beta1",
   "language": "sage",
   "name": "sagemath"
  },
  "language_info": {
   "codemirror_mode": {
    "name": "ipython",
    "version": 3
   },
   "file_extension": ".py",
   "mimetype": "text/x-python",
   "name": "python",
   "nbconvert_exporter": "python",
   "pygments_lexer": "ipython3",
   "version": "3.12.3"
  }
 },
 "nbformat": 4,
 "nbformat_minor": 4
}
