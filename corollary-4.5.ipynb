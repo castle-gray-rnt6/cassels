{
 "cells": [
  {
   "cell_type": "markdown",
   "id": "995c82",
   "metadata": {
    "collapsed": false
   },
   "source": [
    "We compute the cyclotomic hashes from the proof of Corollary 4.5."
   ]
  },
  {
   "cell_type": "code",
   "execution_count": 1,
   "id": "2cf71d",
   "metadata": {
    "collapsed": false
   },
   "outputs": [
   ],
   "source": [
    "load(\"utils.sage\")"
   ]
  },
  {
   "cell_type": "code",
   "execution_count": 4,
   "id": "6d5a87",
   "metadata": {
    "collapsed": false,
    "jupyter": {
     "source_hidden": true
    }
   },
   "outputs": [
   ],
   "source": [
    "def minimal_level(a, with_zeta=False):\n",
    "    \"\"\"\n",
    "    INPUT:\n",
    "        - A cyclotomic integer.\n",
    "        - TYPE: Same type as that of an element in\n",
    "          `CyclotomicField(n).ring_of_integers()`.\n",
    "    OUTPUT:\n",
    "        - The minimal level of the input.\n",
    "        - If `with_zeta` is set, also return a root of unity (in the parent of the input)\n",
    "        - TYPE: Integer.\n",
    "\n",
    "    AUTHOR: Toinou, Kiran\n",
    "    \"\"\"\n",
    "    # Create some objects:\n",
    "    K = a.parent().fraction_field()\n",
    "    # TODO: What is the cost of the conductor computation?\n",
    "    N = K.conductor()\n",
    "    roots = K.roots_of_unity()\n",
    "\n",
    "    # Captain obvious\n",
    "    if a in QQ:\n",
    "        return (1, K(1)) if with_zeta else 1\n",
    "\n",
    "    # Outer loop: prime factors p of N:\n",
    "    for p, _ in factor(N):\n",
    "        d = N//4 if (p == 2 and N%8 == 4) else N//p\n",
    "        Kd = CyclotomicField(d)\n",
    "        # Inner loop: roots of unity\n",
    "        for zeta in roots[:p]:\n",
    "            # TODO: Check how Sage does this membership test\n",
    "            if zeta * a in Kd:\n",
    "                # Reduce the level and recurse\n",
    "                ans = minimal_level(Kd(zeta * a), with_zeta)\n",
    "                return (ans[0], K(ans[1])*zeta) if with_zeta else ans\n",
    "    # If none of the above, then N\n",
    "    return (N, K(1)) if with_zeta else N\n",
    "\n",
    "def cyclotomic_hash(a):\n",
    "    \"\"\"\n",
    "    INPUT:\n",
    "        - A cyclotomic integer.\n",
    "        - TYPE: Same type as that of an element in\n",
    "          `CyclotomicField(n).ring_of_integers()`.\n",
    "    OUTPUT:\n",
    "        - The minimal level of the input, and the minimal polynomial of a \"canonical\" representative of the equivalence class.\n",
    "        - TYPE: Integer; polynomial with integer coefficients.\n",
    "\n",
    "    AUTHOR: Kiran\n",
    "    \"\"\"\n",
    "    # Force a into minimal level\n",
    "    N, z0 = minimal_level(a, with_zeta=True)\n",
    "    K.<z> = CyclotomicField(N)\n",
    "    b = K(a*z0)\n",
    "    # Minimize the degree of the minimal polynomial, breaking ties in favor of the lexicographically earlier polynomial\n",
    "    # (with coefficients read from highest order to lowest order).\n",
    "    d = None\n",
    "    roots = K.roots_of_unity()\n",
    "    for zeta in roots:\n",
    "        pol = (b*zeta).minpoly()\n",
    "        if (d is None) or (pol.degree() < d.degree()) or (pol.degree() == d.degree() and list(pol.reverse()) < list(d.reverse())):\n",
    "            d = pol\n",
    "    return N, d\n",
    "\n",
    "def is_cassels_form(a, hash0=None):\n",
    "    \"\"\"\n",
    "    INPUT:\n",
    "        - A cyclotomic integer.\n",
    "        - TYPE: Same type as that of an element in\n",
    "          `CyclotomicField(n).ring_of_integers()`.\n",
    "    OUTPUT:\n",
    "        - True if the input appears in one of Cassels's infinite families.\n",
    "        - TYPE: Boolean.\n",
    "\n",
    "    AUTHOR: Kiran\n",
    "    \"\"\"\n",
    "    # Test whether a is a sum of at most two roots of unity.\n",
    "    K = a.parent()\n",
    "    roots = K.roots_of_unity()\n",
    "    if a == 0 or a.multiplicative_order() < Infinity or any((a-z).multiplicative_order() < Infinity for z in roots):\n",
    "        return True\n",
    "    # Test whether the castle of a has the right form for one of the other Cassels families.\n",
    "    u = a*a.conjugate()\n",
    "    P.<z> = K[]\n",
    "    l = (z^2 + (u-3)*z + 1).roots(K)\n",
    "    if len(l) == 0:\n",
    "        return False\n",
    "    z1 = l[0][0]\n",
    "    if z1.multiplicative_order() == Infinity:\n",
    "        return False\n",
    "    # Test whether a is equivalent to 1 + z2 - 1/z2 for z2 = sqrt(z1).\n",
    "    hash1 = cyclotomic_hash(a) if hash0 is None else hash0\n",
    "    _, z2 = z1.is_square(root=True)\n",
    "    if _ and hash1 == cyclotomic_hash(1+z2-1/z2):\n",
    "        return True\n",
    "    # Test whether a is equivalent to (z5+z5^4) + (z5^2+z5^3)*z1.\n",
    "    K5.<z5> = CyclotomicField(5)\n",
    "    if hash1[0] % 5 == 0 and hash1 == cyclotomic_hash((z5+z5^4) + (z5^2+z5^3)*z1):\n",
    "        return True\n",
    "    return False\n"
   ]
  },
  {
   "cell_type": "markdown",
   "id": "523ea5",
   "metadata": {
    "collapsed": false
   },
   "source": [
    " --- Calculation for the specific integer (ζ₅+ζ₅⁴) + (ζ₅²+ζ₅³)ζ₄ ---\n",
    "\n"
   ]
  },
  {
   "cell_type": "code",
   "execution_count": 2,
   "id": "859420",
   "metadata": {
    "collapsed": false
   },
   "outputs": [
    {
     "name": "stdout",
     "output_type": "stream",
     "text": [
      "The original element is: (ζ₅+ζ₅⁴) + (ζ₅²+ζ₅³)ζ₄\n",
      "Minimal Level (N): 20\n",
      "Canonical Minimal Polynomial: x^4 - 2*x^3 + 2*x^2 - 6*x + 9\n"
     ]
    }
   ],
   "source": [
    "# The integer involves zeta_5 and zeta_4.\n",
    "# The LCM of 5 and 4 is 20, so we work in the 20th cyclotomic field.\n",
    "K = CyclotomicField(20)\n",
    "z = K.gen()\n",
    "\n",
    "# Express zeta_5 and zeta_4 in terms of the generator z = zeta_20\n",
    "z5 = z^4  # zeta_20^4 = zeta_5\n",
    "z4 = z^5  # zeta_20^5 = zeta_4\n",
    "\n",
    "# Construct the integer 'a'\n",
    "a = (z5 + z5^4) + (z5^2 + z5^3)*z4\n",
    "\n",
    "# Calculate the hash\n",
    "level, min_poly = cyclotomic_hash(a)\n",
    "\n",
    "# Print the result\n",
    "print(f\"The original element is: (ζ₅+ζ₅⁴) + (ζ₅²+ζ₅³)ζ₄\")\n",
    "print(f\"Minimal Level (N): {level}\")\n",
    "print(f\"Canonical Minimal Polynomial: {min_poly}\")\n",
    "\n"
   ]
  },
  {
   "cell_type": "markdown",
   "id": "908d43",
   "metadata": {
    "collapsed": false
   },
   "source": [
    "--- Calculation for the specific integer 1/2*(sqrt(10) + i*sqrt(2)) ---"
   ]
  },
  {
   "cell_type": "code",
   "execution_count": 3,
   "id": "d18ea9",
   "metadata": {
    "collapsed": false
   },
   "outputs": [
    {
     "name": "stdout",
     "output_type": "stream",
     "text": [
      "The original element is: 1/2*(sqrt(10) + i*sqrt(2))\n",
      "Minimal Level (N): 20\n",
      "Canonical Minimal Polynomial: x^4 - 2*x^3 + 2*x^2 - 6*x + 9\n"
     ]
    }
   ],
   "source": [
    "# The integer involves sqrt(10) and i*sqrt(2).\n",
    "# This requires sqrt(5) and sqrt(2), so we need zeta_5 and zeta_8.\n",
    "# The LCM of 5 and 8 is 40, so we work in the 40th cyclotomic field.\n",
    "K = CyclotomicField(40)\n",
    "z = K.gen()\n",
    "\n",
    "# Express zeta_5 and zeta_8 in terms of the generator z = zeta_40\n",
    "z5 = z^8  # zeta_40^8 = zeta_5\n",
    "z8 = z^5  # zeta_40^5 = zeta_8\n",
    "\n",
    "# Construct the necessary components from roots of unity\n",
    "# Note: i*sqrt(2) = zeta_8 - zeta_8^7\n",
    "i_sqrt_2 = z8 - z8^7\n",
    "# Note: sqrt(5) is the Gauss sum for p=5\n",
    "sqrt_5 = z5 - z5^2 - z5^3 + z5^4\n",
    "# Note: sqrt(2) = zeta_8 + zeta_8^7\n",
    "sqrt_2 = z8 + z8^7\n",
    "sqrt_10 = sqrt_2 * sqrt_5\n",
    "\n",
    "# Construct the integer 'a'\n",
    "# The minimal polynomial x^4 - 4*x^2 + 9 = 0 shows this is an algebraic integer.\n",
    "a = (sqrt_10 + i_sqrt_2) / 2\n",
    "\n",
    "# Calculate the hash\n",
    "level, min_poly = cyclotomic_hash(a)\n",
    "\n",
    "# Print the result\n",
    "print(f\"The original element is: 1/2*(sqrt(10) + i*sqrt(2))\")\n",
    "print(f\"Minimal Level (N): {level}\")\n",
    "print(f\"Canonical Minimal Polynomial: {min_poly}\")\n"
   ]
  },
  {
   "cell_type": "markdown",
   "id": "227df3",
   "metadata": {
    "collapsed": false
   },
   "source": [
    "--- Calculation for the specific integer (ζ₅+ζ₅⁴) + (ζ₅²+ζ₅³)ζ₆ ---"
   ]
  },
  {
   "cell_type": "code",
   "execution_count": 7,
   "id": "d6f7c2",
   "metadata": {
    "collapsed": false
   },
   "outputs": [
    {
     "name": "stdout",
     "output_type": "stream",
     "text": [
      "The original element is: -zeta30^5 - zeta30^4 + zeta30\n",
      "Minimal Level (N): 15\n",
      "Canonical Minimal Polynomial: x^4 - 3*x^3 + 5*x^2 - 6*x + 4\n"
     ]
    }
   ],
   "source": [
    "\n",
    "\n",
    "# The integer involves zeta_5 and zeta_6.\n",
    "# The LCM of 5 and 6 is 30, so we work in the 30th cyclotomic field.\n",
    "K = CyclotomicField(30)\n",
    "z = K.gen()\n",
    "\n",
    "# Express zeta_5 and zeta_6 in terms of the generator z = zeta_30\n",
    "z5 = z^6  # zeta_30^6 = zeta_5\n",
    "z6 = z^5  # zeta_30^5 = zeta_6\n",
    "\n",
    "# Construct the integer 'a'\n",
    "a = (z5 + z5^4) + (z5^2 + z5^3)*z6\n",
    "\n",
    "# Calculate the hash\n",
    "level, min_poly = cyclotomic_hash(a)\n",
    "\n",
    "# Print the result\n",
    "print(f\"The original element is: {a}\")\n",
    "print(f\"Minimal Level (N): {level}\")\n",
    "print(f\"Canonical Minimal Polynomial: {min_poly}\")"
   ]
  },
  {
   "cell_type": "markdown",
   "id": "2ea37a",
   "metadata": {
    "collapsed": false
   },
   "source": [
    "--- Calculation for the specific integer 1/2*(sqrt(5) + i*sqrt(3)) ---"
   ]
  },
  {
   "cell_type": "code",
   "execution_count": 8,
   "id": "da7f2b",
   "metadata": {
    "collapsed": false
   },
   "outputs": [
    {
     "name": "stdout",
     "output_type": "stream",
     "text": [
      "The original element is: 1/2*(sqrt(5) + i*sqrt(3))\n",
      "Minimal Level (N): 15\n",
      "Canonical Minimal Polynomial: x^4 - 3*x^3 + 5*x^2 - 6*x + 4\n"
     ]
    }
   ],
   "source": [
    "\n",
    "\n",
    "# The integer involves sqrt(5) (from zeta_5) and i*sqrt(3) (from zeta_6).\n",
    "# The LCM of 5 and 6 is 30, so we work in the 30th cyclotomic field.\n",
    "K = CyclotomicField(30)\n",
    "z = K.gen()\n",
    "\n",
    "# Express zeta_5 and zeta_6 in terms of the generator z = zeta_30\n",
    "z5 = z^6  # zeta_30^6 = zeta_5\n",
    "z6 = z^5  # zeta_30^5 = zeta_6\n",
    "\n",
    "# We can express the number as a cyclotomic integer:\n",
    "# 1/2*(sqrt(5) + i*sqrt(3)) = (zeta_5 + zeta_5^4) + zeta_6\n",
    "a = (z5 + z5^4) + z6\n",
    "\n",
    "# Calculate the hash\n",
    "level, min_poly = cyclotomic_hash(a)\n",
    "\n",
    "# Print the result\n",
    "print(f\"The original element is: 1/2*(sqrt(5) + i*sqrt(3))\")\n",
    "print(f\"Minimal Level (N): {level}\")\n",
    "print(f\"Canonical Minimal Polynomial: {min_poly}\")"
   ]
  },
  {
   "cell_type": "markdown",
   "id": "484abb",
   "metadata": {
    "collapsed": false
   },
   "source": [
    "--- Calculation for the specific integer (ζ₅+ζ₅⁴) + (ζ₅²+ζ₅³)ζ₁₀ ---"
   ]
  },
  {
   "cell_type": "code",
   "execution_count": 9,
   "id": "71663b",
   "metadata": {
    "collapsed": false
   },
   "outputs": [
    {
     "name": "stdout",
     "output_type": "stream",
     "text": [
      "The original element is: (ζ₅+ζ₅⁴) + (ζ₅²+ζ₅³)ζ₁₀\n",
      "Expressed as a cyclotomic integer: -zeta10^3 - 1\n",
      "Minimal Level (N): 5\n",
      "Canonical Minimal Polynomial: x^4 - 5*x^3 + 10*x^2 - 10*x + 5\n",
      "Is the element a sum of two roots of unity? True\n"
     ]
    }
   ],
   "source": [
    "# The integer involves zeta_5 and zeta_10.\n",
    "# The LCM of 5 and 10 is 10, so we work in the 10th cyclotomic field.\n",
    "K = CyclotomicField(10)\n",
    "z = K.gen()\n",
    "\n",
    "# Express zeta_5 and zeta_10 in terms of the generator z = zeta_10\n",
    "z5 = z^2  # zeta_10^2 = zeta_5\n",
    "z10 = z\n",
    "\n",
    "# Construct the integer 'a'\n",
    "a = (z5 + z5^4) + (z5^2 + z5^3)*z10\n",
    "\n",
    "# Calculate the hash\n",
    "level, min_poly = cyclotomic_hash(a)\n",
    "\n",
    "# --- Directly check if 'a' is a sum of two roots of unity ---\n",
    "# The logic is: if a = z1 + z2, then a - z1 = z2.\n",
    "# So we check if (a - z) is a root of unity for any root of unity z in the field.\n",
    "field_roots = a.parent().roots_of_unity()\n",
    "is_sum = False\n",
    "if a == 0 or a.multiplicative_order() < Infinity or any((a-root).multiplicative_order() < Infinity for root in field_roots):\n",
    "    is_sum = True\n",
    "\n",
    "# Print the results\n",
    "print(f\"The original element is: (ζ₅+ζ₅⁴) + (ζ₅²+ζ₅³)ζ₁₀\")\n",
    "print(f\"Expressed as a cyclotomic integer: {a}\")\n",
    "print(f\"Minimal Level (N): {level}\")\n",
    "print(f\"Canonical Minimal Polynomial: {min_poly}\")\n",
    "print(f\"Is the element a sum of two roots of unity? {is_sum}\")\n",
    "\n"
   ]
  },
  {
   "cell_type": "code",
   "execution_count": 10,
   "id": "b65518",
   "metadata": {
    "collapsed": false
   },
   "outputs": [
    {
     "name": "stdout",
     "output_type": "stream",
     "text": [
      "The original element is: 1 - ζ₅\n",
      "Expressed as a cyclotomic integer: -zeta5 + 1\n",
      "Minimal Level (N): 5\n",
      "Canonical Minimal Polynomial: x^4 - 5*x^3 + 10*x^2 - 10*x + 5\n"
     ]
    }
   ],
   "source": [
    "# The number involves roots of unity of order 5.\n",
    "# We work in the 5th cyclotomic field.\n",
    "K = CyclotomicField(5)\n",
    "z = K.gen()\n",
    "\n",
    "# Construct the integer 'a'\n",
    "a = 1 - z\n",
    "\n",
    "# Calculate the hash\n",
    "level, canonical_min_poly = cyclotomic_hash(a)\n",
    "\n",
    "# Print the results\n",
    "print(f\"The original element is: 1 - ζ₅\")\n",
    "print(f\"Expressed as a cyclotomic integer: {a}\")\n",
    "print(f\"Minimal Level (N): {level}\")\n",
    "print(f\"Canonical Minimal Polynomial: {canonical_min_poly}\")\n",
    "\n"
   ]
  },
  {
   "cell_type": "markdown",
   "id": "ae42a0",
   "metadata": {
    "collapsed": false
   },
   "source": [
    "--- Calculation for the specific integer 1 - ζ₂₁ - ζ₂₁¹³ ---"
   ]
  },
  {
   "cell_type": "code",
   "execution_count": 11,
   "id": "d1a01f",
   "metadata": {
    "collapsed": false
   },
   "outputs": [
    {
     "name": "stdout",
     "output_type": "stream",
     "text": [
      "The original element is: 1 - ζ₂₁ - ζ₂₁¹³\n",
      "Minimal Level (N): 21\n",
      "Canonical Minimal Polynomial: x^6 - 5*x^5 + 13*x^4 - 22*x^3 + 28*x^2 - 21*x + 7\n"
     ]
    }
   ],
   "source": [
    "# The integer involves zeta_21.\n",
    "# We work in the 21st cyclotomic field.\n",
    "K = CyclotomicField(21)\n",
    "z = K.gen()\n",
    "\n",
    "# Construct the integer 'a'\n",
    "a = 1 - z - z^13\n",
    "\n",
    "# Calculate the hash\n",
    "level, min_poly = cyclotomic_hash(a)\n",
    "\n",
    "# Print the results\n",
    "print(f\"The original element is: 1 - ζ₂₁ - ζ₂₁¹³\")\n",
    "print(f\"Minimal Level (N): {level}\")\n",
    "print(f\"Canonical Minimal Polynomial: {min_poly}\")\n",
    "\n"
   ]
  },
  {
   "cell_type": "markdown",
   "id": "f0bfd4",
   "metadata": {
    "collapsed": false
   },
   "source": [
    " --- Calculation for the specific integer 2*cos(2*pi/7) + (1+i*sqrt(3))/2 ---"
   ]
  },
  {
   "cell_type": "code",
   "execution_count": 12,
   "id": "8853f3",
   "metadata": {
    "collapsed": false
   },
   "outputs": [
    {
     "name": "stdout",
     "output_type": "stream",
     "text": [
      "The original element is: 2*cos(2*pi/7) + (1+i*sqrt(3))/2\n",
      "Expressed as a cyclotomic integer: -zeta42^8 + zeta42^7 + zeta42^6 + zeta42\n",
      "Minimal Level (N): 21\n",
      "Canonical Minimal Polynomial: x^6 - 5*x^5 + 13*x^4 - 22*x^3 + 28*x^2 - 21*x + 7\n"
     ]
    }
   ],
   "source": [
    "# The number can be expressed using roots of unity:\n",
    "# 2*cos(2*pi/7) = zeta_7 + zeta_7^6\n",
    "# (1+i*sqrt(3))/2 = zeta_6\n",
    "# The LCM of 7 and 6 is 42, so we work in the 42nd cyclotomic field.\n",
    "K = CyclotomicField(42)\n",
    "z = K.gen()\n",
    "\n",
    "# Express zeta_7 and zeta_6 in terms of the generator z = zeta_42\n",
    "z7 = z^6  # zeta_42^6 = zeta_7\n",
    "z6 = z^7  # zeta_42^7 = zeta_6\n",
    "\n",
    "# Construct the integer 'a'\n",
    "a = (z7 + z7^6) + z6\n",
    "\n",
    "# Calculate the hash\n",
    "level, min_poly = cyclotomic_hash(a)\n",
    "\n",
    "# Print the results\n",
    "print(f\"The original element is: 2*cos(2*pi/7) + (1+i*sqrt(3))/2\")\n",
    "print(f\"Expressed as a cyclotomic integer: {a}\")\n",
    "print(f\"Minimal Level (N): {level}\")\n",
    "print(f\"Canonical Minimal Polynomial: {min_poly}\")\n",
    "\n"
   ]
  },
  {
   "cell_type": "markdown",
   "id": "8fe4be",
   "metadata": {
    "collapsed": false
   },
   "source": [
    "--- Calculation for the specific integer 1 + ζ₁₁ + ζ₁₁² + ζ₁₁⁴ + ζ₁₁⁷ ---"
   ]
  },
  {
   "cell_type": "code",
   "execution_count": 13,
   "id": "0ae28d",
   "metadata": {
    "collapsed": false
   },
   "outputs": [
    {
     "name": "stdout",
     "output_type": "stream",
     "text": [
      "The original element is: 1 + ζ₁₁ + ζ₁₁² + ζ₁₁⁴ + ζ₁₁⁷\n",
      "Minimal Level (N): 11\n",
      "Canonical Minimal Polynomial: x^2 - x + 3\n"
     ]
    }
   ],
   "source": [
    "# The number involves roots of unity of order 11.\n",
    "# We work in the 11th cyclotomic field.\n",
    "K = CyclotomicField(11)\n",
    "z = K.gen()\n",
    "\n",
    "# Construct the integer 'a'\n",
    "a = 1 + z + z^2 + z^4 + z^7\n",
    "\n",
    "# Calculate the hash\n",
    "level, min_poly = cyclotomic_hash(a)\n",
    "\n",
    "# Print the results\n",
    "print(f\"The original element is: 1 + ζ₁₁ + ζ₁₁² + ζ₁₁⁴ + ζ₁₁⁷\")\n",
    "print(f\"Minimal Level (N): {level}\")\n",
    "print(f\"Canonical Minimal Polynomial: {min_poly}\")\n",
    "\n"
   ]
  },
  {
   "cell_type": "code",
   "execution_count": 14,
   "id": "1c801f",
   "metadata": {
    "collapsed": false
   },
   "outputs": [
    {
     "name": "stdout",
     "output_type": "stream",
     "text": [
      "The original element is: (1 + i*sqrt(11))/2\n",
      "Minimal Level (N): 11\n",
      "Canonical Minimal Polynomial: x^2 - x + 3\n"
     ]
    }
   ],
   "source": [
    "# The number involves i*sqrt(11), which is related to the Gauss sum for p=11.\n",
    "# The field Q(sqrt(-11)) is a subfield of the 11th cyclotomic field.\n",
    "# We work in the 11th cyclotomic field.\n",
    "K = CyclotomicField(11)\n",
    "z = K.gen()\n",
    "\n",
    "# Construct the integer 'a' using the quadratic Gauss sum.\n",
    "# The Gauss sum for p=11 is i*sqrt(11).\n",
    "i_sqrt_11 = sum(kronecker(k, 11) * z^k for k in range(1, 11))\n",
    "a = (1 + i_sqrt_11) / 2\n",
    "\n",
    "# Calculate the hash\n",
    "level, min_poly = cyclotomic_hash(a)\n",
    "\n",
    "# Print the results\n",
    "print(f\"The original element is: (1 + i*sqrt(11))/2\")\n",
    "print(f\"Minimal Level (N): {level}\")\n",
    "print(f\"Canonical Minimal Polynomial: {min_poly}\")\n",
    "\n"
   ]
  },
  {
   "cell_type": "markdown",
   "id": "5af213",
   "metadata": {
    "collapsed": false
   },
   "source": [
    " --- Calculation for the specific integer 1 + ζ₁₃ + ζ₁₃³ + ζ₁₃⁹ ---"
   ]
  },
  {
   "cell_type": "code",
   "execution_count": 15,
   "id": "589364",
   "metadata": {
    "collapsed": false
   },
   "outputs": [
    {
     "name": "stdout",
     "output_type": "stream",
     "text": [
      "The original element is: 1 + ζ₁₃ + ζ₁₃³ + ζ₁₃⁹\n",
      "Minimal Level (N): 13\n",
      "Canonical Minimal Polynomial: x^4 - 3*x^3 + 5*x^2 - 9*x + 9\n"
     ]
    }
   ],
   "source": [
    "# The number involves roots of unity of order 13.\n",
    "# We work in the 13th cyclotomic field.\n",
    "K = CyclotomicField(13)\n",
    "z = K.gen()\n",
    "\n",
    "# Construct the integer 'a'\n",
    "a = 1 + z + z^3 + z^9\n",
    "\n",
    "# Calculate the hash\n",
    "level, min_poly = cyclotomic_hash(a)\n",
    "\n",
    "# Print the results\n",
    "print(f\"The original element is: 1 + ζ₁₃ + ζ₁₃³ + ζ₁₃⁹\")\n",
    "print(f\"Minimal Level (N): {level}\")\n",
    "print(f\"Canonical Minimal Polynomial: {min_poly}\")"
   ]
  },
  {
   "cell_type": "markdown",
   "id": "819329",
   "metadata": {
    "collapsed": false
   },
   "source": [
    "--- Calculation for the specific integer (3+sqrt(13) + i*sqrt(26-6*sqrt(13)))/4 ---"
   ]
  },
  {
   "cell_type": "code",
   "execution_count": 16,
   "id": "62a130",
   "metadata": {
    "collapsed": false
   },
   "outputs": [
    {
     "name": "stdout",
     "output_type": "stream",
     "text": [
      "The original element is: (3+sqrt(13) + i*sqrt(26-6*sqrt(13)))/4\n",
      "Its minimal polynomial is: x^4 - 3*x^3 + 5*x^2 - 9*x + 9\n",
      "The number is cyclotomic and its conductor is 13.\n",
      "Minimal Level (N): 13\n",
      "Canonical Minimal Polynomial: x^4 - 3*x^3 + 5*x^2 - 9*x + 9\n"
     ]
    }
   ],
   "source": [
    "# 1. Define the number in the field of algebraic numbers (QQbar).\n",
    "a_radical = (3 + sqrt(QQbar(13)) + I * sqrt(26 - 6*sqrt(QQbar(13)))) / 4\n",
    "\n",
    "# 2. Find its minimal polynomial over the rational numbers.\n",
    "min_poly_a = a_radical.minpoly()\n",
    "\n",
    "# 3. Create a number field from this polynomial.\n",
    "K.<a> = NumberField(min_poly_a)\n",
    "\n",
    "# 4. The conductor of this field is the smallest N for which the number\n",
    "#    can be represented in the N-th cyclotomic field.\n",
    "#    The Kronecker-Weber theorem ensures this works for abelian number fields.\n",
    "try:\n",
    "    N = K.conductor()\n",
    "    \n",
    "    # 5. Embed the abstract number 'a' into the concrete cyclotomic field Q(zeta_N).\n",
    "    #    There are multiple valid embeddings; the hash function will produce the\n",
    "    #    same canonical result regardless of which one we choose.\n",
    "    KN.<z> = CyclotomicField(N)\n",
    "    a_cyclotomic = K.embeddings(KN)[0](a)\n",
    "\n",
    "    # 6. Now, calculate the hash using the correct cyclotomic representation.\n",
    "    level, canonical_min_poly = cyclotomic_hash(a_cyclotomic)\n",
    "\n",
    "    # Print the results\n",
    "    print(f\"The original element is: (3+sqrt(13) + i*sqrt(26-6*sqrt(13)))/4\")\n",
    "    print(f\"Its minimal polynomial is: {min_poly_a}\")\n",
    "    print(f\"The number is cyclotomic and its conductor is {N}.\")\n",
    "    print(f\"Minimal Level (N): {level}\")\n",
    "    print(f\"Canonical Minimal Polynomial: {canonical_min_poly}\")\n",
    "\n",
    "except (NotImplementedError, ValueError):\n",
    "    print(f\"The number defined by the minimal polynomial {min_poly_a} is not a cyclotomic integer.\")"
   ]
  },
  {
   "cell_type": "markdown",
   "id": "af8311",
   "metadata": {
    "collapsed": false
   },
   "source": [
    "--- Calculation for the specific integer 1 - ζ₃₅ + ζ₃₅⁷ - ζ₃₅¹¹ - ζ₃₅¹⁶ ---\n"
   ]
  },
  {
   "cell_type": "code",
   "execution_count": 17,
   "id": "2c97b8",
   "metadata": {
    "collapsed": false
   },
   "outputs": [
    {
     "name": "stdout",
     "output_type": "stream",
     "text": [
      "The original element is: 1 - ζ₃₅ + ζ₃₅⁷ - ζ₃₅¹¹ - ζ₃₅¹⁶\n",
      "Minimal Level (N): 35\n",
      "Canonical Minimal Polynomial: x^4 + x^2 + 9\n"
     ]
    }
   ],
   "source": [
    "# The integer involves zeta_35.\n",
    "# We work in the 35th cyclotomic field.\n",
    "K = CyclotomicField(35)\n",
    "z = K.gen()\n",
    "\n",
    "# Construct the integer 'a'\n",
    "a = 1 - z + z^7 - z^11 - z^16\n",
    "\n",
    "# Calculate the hash\n",
    "level, canonical_min_poly = cyclotomic_hash(a)\n",
    "\n",
    "# Print the results\n",
    "print(f\"The original element is: 1 - ζ₃₅ + ζ₃₅⁷ - ζ₃₅¹¹ - ζ₃₅¹⁶\")\n",
    "print(f\"Minimal Level (N): {level}\")\n",
    "print(f\"Canonical Minimal Polynomial: {canonical_min_poly}\")\n",
    "\n"
   ]
  },
  {
   "cell_type": "markdown",
   "id": "02495f",
   "metadata": {
    "collapsed": false
   },
   "source": [
    "--- Calculation for the specific integer 1/2*(sqrt(5) + i*sqrt(7)) ---"
   ]
  },
  {
   "cell_type": "code",
   "execution_count": 18,
   "id": "d087f6",
   "metadata": {
    "collapsed": false
   },
   "outputs": [
    {
     "name": "stdout",
     "output_type": "stream",
     "text": [
      "The original element is: 1/2*(sqrt(5) + i*sqrt(7))\n",
      "Expressed as a cyclotomic integer: -zeta35^21 + zeta35^20 - zeta35^14 + zeta35^10 + zeta35^5\n",
      "Minimal Level (N): 35\n",
      "Canonical Minimal Polynomial: x^4 + x^2 + 9\n"
     ]
    }
   ],
   "source": [
    "# The number involves sqrt(5) (from Q(zeta_5)) and i*sqrt(7) (from Q(zeta_7)).\n",
    "# The LCM of 5 and 7 is 35, so we work in the 35th cyclotomic field.\n",
    "K = CyclotomicField(35)\n",
    "z = K.gen()\n",
    "\n",
    "# Express zeta_5 and zeta_7 in terms of the generator z = zeta_35\n",
    "z5 = z^7  # zeta_35^7 = zeta_5\n",
    "z7 = z^5  # zeta_35^5 = zeta_7\n",
    "\n",
    "# Construct the integer 'a' using quadratic Gauss sums.\n",
    "# sqrt(5) = z5 + z5^4 - z5^2 - z5^3\n",
    "sqrt_5 = sum(kronecker(k, 5) * z5^k for k in range(1, 5))\n",
    "# i*sqrt(7) = sum of (k/7)*z7^k\n",
    "i_sqrt_7 = sum(kronecker(k, 7) * z7^k for k in range(1, 7))\n",
    "\n",
    "a = (sqrt_5 + i_sqrt_7) / 2\n",
    "\n",
    "# Calculate the hash\n",
    "level, canonical_min_poly = cyclotomic_hash(a)\n",
    "\n",
    "# Print the results\n",
    "print(f\"The original element is: 1/2*(sqrt(5) + i*sqrt(7))\")\n",
    "print(f\"Expressed as a cyclotomic integer: {a}\")\n",
    "print(f\"Minimal Level (N): {level}\")\n",
    "print(f\"Canonical Minimal Polynomial: {canonical_min_poly}\")\n",
    "\n"
   ]
  },
  {
   "cell_type": "markdown",
   "id": "152ffb",
   "metadata": {
    "collapsed": false
   },
   "source": [
    "--- Calculation for the specific integer 1 + ζ₇ + ζ₇³ ---"
   ]
  },
  {
   "cell_type": "code",
   "execution_count": 19,
   "id": "a15f54",
   "metadata": {
    "collapsed": false
   },
   "outputs": [
    {
     "name": "stdout",
     "output_type": "stream",
     "text": [
      "The original element is: 1 + ζ₇ + ζ₇³\n",
      "Expressed as a cyclotomic integer: zeta7^3 + zeta7 + 1\n",
      "Minimal Level (N): 7\n",
      "Canonical Minimal Polynomial: x^2 - x + 2\n"
     ]
    }
   ],
   "source": [
    "# The number involves roots of unity of order 7.\n",
    "# We work in the 7th cyclotomic field.\n",
    "K = CyclotomicField(7)\n",
    "z = K.gen()\n",
    "\n",
    "# Construct the integer 'a'\n",
    "a = 1 + z + z^3\n",
    "\n",
    "# Calculate the hash\n",
    "level, canonical_min_poly = cyclotomic_hash(a)\n",
    "\n",
    "# Print the results\n",
    "print(f\"The original element is: 1 + ζ₇ + ζ₇³\")\n",
    "print(f\"Expressed as a cyclotomic integer: {a}\")\n",
    "print(f\"Minimal Level (N): {level}\")\n",
    "print(f\"Canonical Minimal Polynomial: {canonical_min_poly}\")\n",
    "\n"
   ]
  },
  {
   "cell_type": "markdown",
   "id": "6bb5d3",
   "metadata": {
    "collapsed": false
   },
   "source": [
    "--- Calculation for the specific integer 1/2*(1 + i*sqrt(7)) ---"
   ]
  },
  {
   "cell_type": "code",
   "execution_count": 20,
   "id": "122f35",
   "metadata": {
    "collapsed": false
   },
   "outputs": [
    {
     "name": "stdout",
     "output_type": "stream",
     "text": [
      "The original element is: 1/2*(1 + i*sqrt(7))\n",
      "Expressed as a cyclotomic integer: zeta7^4 + zeta7^2 + zeta7 + 1\n",
      "Minimal Level (N): 7\n",
      "Canonical Minimal Polynomial: x^2 - x + 2\n"
     ]
    }
   ],
   "source": [
    "# The number involves i*sqrt(7), which is related to the Gauss sum for p=7.\n",
    "# The field Q(sqrt(-7)) is a subfield of the 7th cyclotomic field.\n",
    "# We work in the 7th cyclotomic field.\n",
    "K = CyclotomicField(7)\n",
    "z = K.gen()\n",
    "\n",
    "# Construct the integer 'a' using the quadratic Gauss sum.\n",
    "i_sqrt_7 = sum(kronecker(k, 7) * z^k for k in range(1, 7))\n",
    "a = (1 + i_sqrt_7) / 2\n",
    "\n",
    "# Calculate the hash\n",
    "level, canonical_min_poly = cyclotomic_hash(a)\n",
    "\n",
    "# Print the results\n",
    "print(f\"The original element is: 1/2*(1 + i*sqrt(7))\")\n",
    "print(f\"Expressed as a cyclotomic integer: {a}\")\n",
    "print(f\"Minimal Level (N): {level}\")\n",
    "print(f\"Canonical Minimal Polynomial: {canonical_min_poly}\")\n"
   ]
  },
  {
   "cell_type": "markdown",
   "id": "258dc8",
   "metadata": {
    "collapsed": false
   },
   "source": [
    "--- Calculation for the specific integer (ζ₅+ζ₅⁴) + (ζ₅²+ζ₅³) ---"
   ]
  },
  {
   "cell_type": "code",
   "execution_count": 21,
   "id": "a7319e",
   "metadata": {
    "collapsed": false
   },
   "outputs": [
    {
     "name": "stdout",
     "output_type": "stream",
     "text": [
      "The original element is: (ζ₅+ζ₅⁴) + (ζ₅²+ζ₅³)\n",
      "Minimal Level (N): 1\n",
      "Canonical Minimal Polynomial: x - 1\n"
     ]
    }
   ],
   "source": [
    "# The integer involves zeta_5.\n",
    "# So we work in the 5th cyclotomic field.\n",
    "K = CyclotomicField(5)\n",
    "z5 = K.gen()\n",
    "\n",
    "# Construct the integer 'a'\n",
    "a = (z5 + z5^4) + (z5^2 + z5^3)\n",
    "\n",
    "# Calculate the hash\n",
    "level, min_poly = cyclotomic_hash(a)\n",
    "\n",
    "# Print the result\n",
    "print(f\"The original element is: (ζ₅+ζ₅⁴) + (ζ₅²+ζ₅³)\")\n",
    "print(f\"Minimal Level (N): {level}\")\n",
    "print(f\"Canonical Minimal Polynomial: {min_poly}\")\n",
    "\n"
   ]
  },
  {
   "cell_type": "markdown",
   "id": "29cfd8",
   "metadata": {
    "collapsed": false
   },
   "source": [
    " --- Calculation for the specific integer 1 + ζ₈ - ζ₈⁻¹ ---"
   ]
  },
  {
   "cell_type": "code",
   "execution_count": 22,
   "id": "ea3c4d",
   "metadata": {
    "collapsed": false
   },
   "outputs": [
    {
     "name": "stdout",
     "output_type": "stream",
     "text": [
      "The original element is: 1 + ζ₈ - ζ₈⁻¹\n",
      "Expressed as a cyclotomic integer: zeta8^3 + zeta8 + 1\n",
      "Minimal Level (N): 8\n",
      "Canonical Minimal Polynomial: x^2 - 2*x + 3\n"
     ]
    }
   ],
   "source": [
    "# The number involves roots of unity of order 8.\n",
    "# We work in the 8th cyclotomic field.\n",
    "# Note that ζ₈ - ζ₈⁻¹ is equal to i\\sqrt{2}\n",
    "\n",
    "K = CyclotomicField(8)\n",
    "z = K.gen()\n",
    "\n",
    "# Construct the integer 'a'\n",
    "a = 1 + z - z^-1\n",
    "\n",
    "# Calculate the hash\n",
    "level, canonical_min_poly = cyclotomic_hash(a)\n",
    "\n",
    "# Print the results\n",
    "print(f\"The original element is: 1 + ζ₈ - ζ₈⁻¹\")\n",
    "print(f\"Expressed as a cyclotomic integer: {a}\")\n",
    "print(f\"Minimal Level (N): {level}\")\n",
    "print(f\"Canonical Minimal Polynomial: {canonical_min_poly}\")\n",
    "\n"
   ]
  },
  {
   "cell_type": "markdown",
   "id": "d764a0",
   "metadata": {
    "collapsed": false
   },
   "source": [
    "--- Calculation for the specific integer 1 + ζ₁₂ - ζ₁₂⁻¹ ---\n"
   ]
  },
  {
   "cell_type": "code",
   "execution_count": 23,
   "id": "074b3d",
   "metadata": {
    "collapsed": false
   },
   "outputs": [
    {
     "name": "stdout",
     "output_type": "stream",
     "text": [
      "The original element is: 1 + i\n",
      "Which is equivalent to: 1 + ζ₁₂ - ζ₁₂⁻¹\n",
      "Expressed as a cyclotomic integer: zeta12^3 + 1\n",
      "Minimal Level (N): 4\n",
      "Canonical Minimal Polynomial: x^2 - 2*x + 2\n"
     ]
    }
   ],
   "source": [
    "# The number involves i, which can be written as ζ₁₂ - ζ₁₂⁻¹.\n",
    "# So, 1 + i is equivalent to 1 + ζ₁₂ - ζ₁₂⁻¹.\n",
    "# We work in the 12th cyclotomic field.\n",
    "K = CyclotomicField(12)\n",
    "z = K.gen()\n",
    "\n",
    "# Construct the integer 'a'\n",
    "a = 1 + z - z^-1\n",
    "\n",
    "# Calculate the hash\n",
    "level, canonical_min_poly = cyclotomic_hash(a)\n",
    "\n",
    "# Print the results\n",
    "print(f\"The original element is: 1 + i\")\n",
    "print(f\"Which is equivalent to: 1 + ζ₁₂ - ζ₁₂⁻¹\")\n",
    "print(f\"Expressed as a cyclotomic integer: {a}\")\n",
    "print(f\"Minimal Level (N): {level}\")\n",
    "print(f\"Canonical Minimal Polynomial: {canonical_min_poly}\")"
   ]
  },
  {
   "cell_type": "markdown",
   "id": "98cc35",
   "metadata": {
    "collapsed": false
   },
   "source": [
    "--- Calculation for the specific integer 1 + ζ₂₀ - ζ₂₀⁻¹ ---"
   ]
  },
  {
   "cell_type": "code",
   "execution_count": 24,
   "id": "1dd648",
   "metadata": {
    "collapsed": false
   },
   "outputs": [
    {
     "name": "stdout",
     "output_type": "stream",
     "text": [
      "The original element is: 1 + ζ₂₀ - ζ₂₀⁻¹\n",
      "Expressed as a cyclotomic integer: zeta20^7 - zeta20^5 + zeta20^3 + 1\n",
      "Minimal Level (N): 20\n",
      "Canonical Minimal Polynomial: x^4 - 4*x^3 + 9*x^2 - 10*x + 5\n"
     ]
    }
   ],
   "source": [
    "# The number involves roots of unity of order 20.\n",
    "# We work in the 20th cyclotomic field.\n",
    "K = CyclotomicField(20)\n",
    "z = K.gen()\n",
    "\n",
    "# Construct the integer 'a'\n",
    "a = 1 + z - z^-1\n",
    "\n",
    "# Calculate the hash\n",
    "level, canonical_min_poly = cyclotomic_hash(a)\n",
    "\n",
    "# Print the results\n",
    "print(f\"The original element is: 1 + ζ₂₀ - ζ₂₀⁻¹\")\n",
    "print(f\"Expressed as a cyclotomic integer: {a}\")\n",
    "print(f\"Minimal Level (N): {level}\")\n",
    "print(f\"Canonical Minimal Polynomial: {canonical_min_poly}\")\n"
   ]
  },
  {
   "cell_type": "markdown",
   "id": "a6a341",
   "metadata": {
    "collapsed": false
   },
   "source": [
    "--- Calculation for the specific integer 1 + 1/2*i*(sqrt(5)+1) ---\n"
   ]
  },
  {
   "cell_type": "code",
   "execution_count": 25,
   "id": "eb781c",
   "metadata": {
    "collapsed": false
   },
   "outputs": [
    {
     "name": "stdout",
     "output_type": "stream",
     "text": [
      "The original element is: 1 + 1/2*i*(sqrt(5)+1)\n",
      "Expressed as a cyclotomic integer: zeta20^7 + zeta20^3 + 1\n",
      "Minimal Level (N): 20\n",
      "Canonical Minimal Polynomial: x^4 - 4*x^3 + 9*x^2 - 10*x + 5\n"
     ]
    }
   ],
   "source": [
    "# The number involves i (from Q(zeta_4)) and sqrt(5) (from Q(zeta_5)).\n",
    "# The smallest field containing both is the 20th cyclotomic field.\n",
    "K = CyclotomicField(20)\n",
    "\n",
    "# Construct the number using its radical form. Sage can automatically\n",
    "# convert this into an element of the specified cyclotomic field.\n",
    "a_radical = 1 + I * (sqrt(5)+1)/2\n",
    "a = K(a_radical)\n",
    "\n",
    "# Calculate the hash\n",
    "level, canonical_min_poly = cyclotomic_hash(a)\n",
    "\n",
    "# Print the results\n",
    "print(f\"The original element is: 1 + 1/2*i*(sqrt(5)+1)\")\n",
    "print(f\"Expressed as a cyclotomic integer: {a}\")\n",
    "print(f\"Minimal Level (N): {level}\")\n",
    "print(f\"Canonical Minimal Polynomial: {canonical_min_poly}\")\n",
    "\n"
   ]
  }
 ],
 "metadata": {
  "kernelspec": {
   "argv": [
    "sage-10.6",
    "--python",
    "-m",
    "sage.repl.ipython_kernel",
    "--matplotlib=inline",
    "-f",
    "{connection_file}"
   ],
   "display_name": "SageMath 10.6",
   "env": {
   },
   "language": "sagemath",
   "metadata": {
    "cocalc": {
     "description": "Open-source mathematical software system",
     "priority": 10,
     "url": "https://www.sagemath.org/"
    }
   },
   "name": "sage-10.6",
   "resource_dir": "/ext/jupyter/kernels/sage-10.6"
  },
  "language_info": {
   "codemirror_mode": {
    "name": "ipython",
    "version": 3
   },
   "file_extension": ".py",
   "mimetype": "text/x-python",
   "name": "python",
   "nbconvert_exporter": "python",
   "pygments_lexer": "ipython3",
   "version": "3.12.5"
  }
 },
 "nbformat": 4,
 "nbformat_minor": 4
}