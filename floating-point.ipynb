{
 "cells": [
  {
   "cell_type": "markdown",
   "id": "bf462e",
   "metadata": {
    "collapsed": false
   },
   "source": [
    "We verify that the sines and cosines computed in Rust are accurate to within $10^{-14}$."
   ]
  },
  {
   "cell_type": "code",
   "execution_count": 1,
   "id": "09854a",
   "metadata": {
    "collapsed": false
   },
   "outputs": [
   ],
   "source": [
    "RIF = RealIntervalField(200)"
   ]
  },
  {
   "cell_type": "code",
   "execution_count": 2,
   "id": "617cf5",
   "metadata": {
    "collapsed": false
   },
   "outputs": [
   ],
   "source": [
    "with open(\"Rust/tables.txt\") as f:\n",
    "    for line in f:\n",
    "        l = line.rstrip().split(\" \")\n",
    "        N, i, c, s = [eval(j) for j in l]\n",
    "        theta = RIF(2*pi*i/N)\n",
    "        real_cos, real_sin = cos(theta), sin(theta)\n",
    "        assert abs(RIF(c,c) - real_cos) < 10^-14\n",
    "        assert abs(RIF(s,s) - real_sin) < 10^-14\n"
   ]
  }
 ],
 "metadata": {
  "kernelspec": {
   "argv": [
    "sage-10.6",
    "--python",
    "-m",
    "sage.repl.ipython_kernel",
    "--matplotlib=inline",
    "-f",
    "{connection_file}"
   ],
   "display_name": "SageMath 10.6",
   "env": {
   },
   "language": "sagemath",
   "metadata": {
    "cocalc": {
     "description": "Open-source mathematical software system",
     "priority": 10,
     "url": "https://www.sagemath.org/"
    }
   },
   "name": "sage-10.6",
   "resource_dir": "/ext/jupyter/kernels/sage-10.6"
  }
 },
 "nbformat": 4,
 "nbformat_minor": 4
}